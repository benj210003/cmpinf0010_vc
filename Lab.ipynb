{
 "cells": [
  {
   "cell_type": "code",
   "execution_count": 4,
   "id": "909b2cb9-24a5-435c-9c3b-3a3fc8219e01",
   "metadata": {},
   "outputs": [
    {
     "name": "stdin",
     "output_type": "stream",
     "text": [
      "Enter your name Ben\n",
      "Enter an object name Cat\n"
     ]
    },
    {
     "name": "stdout",
     "output_type": "stream",
     "text": [
      "Benhas a Cat!\n"
     ]
    }
   ],
   "source": [
    "name = input(\"Enter your name\")\n",
    "object = input(\"Enter an object name\")\n",
    "\n",
    "print(name + \" has a\", object +\"!\")"
   ]
  }
 ],
 "metadata": {
  "kernelspec": {
   "display_name": "Python 3 (ipykernel)",
   "language": "python",
   "name": "python3"
  },
  "language_info": {
   "codemirror_mode": {
    "name": "ipython",
    "version": 3
   },
   "file_extension": ".py",
   "mimetype": "text/x-python",
   "name": "python",
   "nbconvert_exporter": "python",
   "pygments_lexer": "ipython3",
   "version": "3.12.4"
  }
 },
 "nbformat": 4,
 "nbformat_minor": 5
}
